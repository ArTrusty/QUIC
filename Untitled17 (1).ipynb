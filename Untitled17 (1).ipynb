{
  "nbformat": 4,
  "nbformat_minor": 0,
  "metadata": {
    "colab": {
      "provenance": []
    },
    "kernelspec": {
      "name": "python3",
      "display_name": "Python 3"
    },
    "language_info": {
      "name": "python"
    }
  },
  "cells": [
    {
      "cell_type": "code",
      "execution_count": null,
      "metadata": {
        "colab": {
          "base_uri": "https://localhost:8080/"
        },
        "id": "CwUWGmYIfnew",
        "outputId": "0b2e22ad-cba3-414b-a230-cb1436da992f"
      },
      "outputs": [
        {
          "output_type": "stream",
          "name": "stdout",
          "text": [
            "Requirement already satisfied: qiskit==1.1.2 in /usr/local/lib/python3.11/dist-packages (1.1.2)\n",
            "Requirement already satisfied: qiskit-optimization in /usr/local/lib/python3.11/dist-packages (0.6.1)\n",
            "Requirement already satisfied: qiskit_aer in /usr/local/lib/python3.11/dist-packages (0.17.0)\n",
            "Requirement already satisfied: qiskit_utils in /usr/local/lib/python3.11/dist-packages (1.2.1)\n",
            "Requirement already satisfied: rustworkx>=0.14.0 in /usr/local/lib/python3.11/dist-packages (from qiskit==1.1.2) (0.16.0)\n",
            "Requirement already satisfied: numpy<3,>=1.17 in /usr/local/lib/python3.11/dist-packages (from qiskit==1.1.2) (2.0.2)\n",
            "Requirement already satisfied: scipy>=1.5 in /usr/local/lib/python3.11/dist-packages (from qiskit==1.1.2) (1.14.1)\n",
            "Requirement already satisfied: sympy>=1.3 in /usr/local/lib/python3.11/dist-packages (from qiskit==1.1.2) (1.13.1)\n",
            "Requirement already satisfied: dill>=0.3 in /usr/local/lib/python3.11/dist-packages (from qiskit==1.1.2) (0.3.9)\n",
            "Requirement already satisfied: python-dateutil>=2.8.0 in /usr/local/lib/python3.11/dist-packages (from qiskit==1.1.2) (2.8.2)\n",
            "Requirement already satisfied: stevedore>=3.0.0 in /usr/local/lib/python3.11/dist-packages (from qiskit==1.1.2) (5.4.1)\n",
            "Requirement already satisfied: typing-extensions in /usr/local/lib/python3.11/dist-packages (from qiskit==1.1.2) (4.13.1)\n",
            "Requirement already satisfied: symengine>=0.11 in /usr/local/lib/python3.11/dist-packages (from qiskit==1.1.2) (0.14.0)\n",
            "Requirement already satisfied: qiskit-algorithms>=0.2.0 in /usr/local/lib/python3.11/dist-packages (from qiskit-optimization) (0.3.1)\n",
            "Requirement already satisfied: docplex!=2.24.231,>=2.21.207 in /usr/local/lib/python3.11/dist-packages (from qiskit-optimization) (2.29.241)\n",
            "Requirement already satisfied: setuptools>=40.1.0 in /usr/local/lib/python3.11/dist-packages (from qiskit-optimization) (75.2.0)\n",
            "Requirement already satisfied: networkx>=2.6.3 in /usr/local/lib/python3.11/dist-packages (from qiskit-optimization) (3.4.2)\n",
            "Requirement already satisfied: psutil>=5 in /usr/local/lib/python3.11/dist-packages (from qiskit_aer) (5.9.5)\n",
            "Requirement already satisfied: six in /usr/local/lib/python3.11/dist-packages (from docplex!=2.24.231,>=2.21.207->qiskit-optimization) (1.17.0)\n",
            "Requirement already satisfied: pbr>=2.0.0 in /usr/local/lib/python3.11/dist-packages (from stevedore>=3.0.0->qiskit==1.1.2) (6.1.1)\n",
            "Requirement already satisfied: mpmath<1.4,>=1.1.0 in /usr/local/lib/python3.11/dist-packages (from sympy>=1.3->qiskit==1.1.2) (1.3.0)\n"
          ]
        }
      ],
      "source": [
        "pip install qiskit==1.1.2 qiskit-optimization qiskit_aer qiskit_utils\n"
      ]
    },
    {
      "cell_type": "code",
      "source": [
        "pip install qiskit_algorithms"
      ],
      "metadata": {
        "colab": {
          "base_uri": "https://localhost:8080/"
        },
        "id": "1aPE6hnMjYTI",
        "outputId": "5d6297f7-7180-428c-ac46-d471bb906cae"
      },
      "execution_count": null,
      "outputs": [
        {
          "output_type": "stream",
          "name": "stdout",
          "text": [
            "Requirement already satisfied: qiskit_algorithms in /usr/local/lib/python3.11/dist-packages (0.3.1)\n",
            "Requirement already satisfied: qiskit>=0.44 in /usr/local/lib/python3.11/dist-packages (from qiskit_algorithms) (1.1.2)\n",
            "Requirement already satisfied: scipy>=1.4 in /usr/local/lib/python3.11/dist-packages (from qiskit_algorithms) (1.14.1)\n",
            "Requirement already satisfied: numpy>=1.17 in /usr/local/lib/python3.11/dist-packages (from qiskit_algorithms) (2.0.2)\n",
            "Requirement already satisfied: rustworkx>=0.14.0 in /usr/local/lib/python3.11/dist-packages (from qiskit>=0.44->qiskit_algorithms) (0.16.0)\n",
            "Requirement already satisfied: sympy>=1.3 in /usr/local/lib/python3.11/dist-packages (from qiskit>=0.44->qiskit_algorithms) (1.13.1)\n",
            "Requirement already satisfied: dill>=0.3 in /usr/local/lib/python3.11/dist-packages (from qiskit>=0.44->qiskit_algorithms) (0.3.9)\n",
            "Requirement already satisfied: python-dateutil>=2.8.0 in /usr/local/lib/python3.11/dist-packages (from qiskit>=0.44->qiskit_algorithms) (2.8.2)\n",
            "Requirement already satisfied: stevedore>=3.0.0 in /usr/local/lib/python3.11/dist-packages (from qiskit>=0.44->qiskit_algorithms) (5.4.1)\n",
            "Requirement already satisfied: typing-extensions in /usr/local/lib/python3.11/dist-packages (from qiskit>=0.44->qiskit_algorithms) (4.13.1)\n",
            "Requirement already satisfied: symengine>=0.11 in /usr/local/lib/python3.11/dist-packages (from qiskit>=0.44->qiskit_algorithms) (0.14.0)\n",
            "Requirement already satisfied: six>=1.5 in /usr/local/lib/python3.11/dist-packages (from python-dateutil>=2.8.0->qiskit>=0.44->qiskit_algorithms) (1.17.0)\n",
            "Requirement already satisfied: pbr>=2.0.0 in /usr/local/lib/python3.11/dist-packages (from stevedore>=3.0.0->qiskit>=0.44->qiskit_algorithms) (6.1.1)\n",
            "Requirement already satisfied: mpmath<1.4,>=1.1.0 in /usr/local/lib/python3.11/dist-packages (from sympy>=1.3->qiskit>=0.44->qiskit_algorithms) (1.3.0)\n",
            "Requirement already satisfied: setuptools in /usr/local/lib/python3.11/dist-packages (from pbr>=2.0.0->stevedore>=3.0.0->qiskit>=0.44->qiskit_algorithms) (75.2.0)\n"
          ]
        }
      ]
    },
    {
      "cell_type": "code",
      "source": [
        "from qiskit_optimization import QuadraticProgram\n",
        "from qiskit_optimization.algorithms import MinimumEigenOptimizer\n",
        "from qiskit_algorithms import QAOA\n",
        "from qiskit_aer.primitives import Sampler as AerSampler\n",
        "from qiskit_algorithms.utils import algorithm_globals\n",
        "from qiskit_algorithms.optimizers import COBYLA\n",
        "from qiskit.compiler import transpile, assemble\n",
        "from qiskit import QuantumCircuit\n",
        "from qiskit_aer import Aer\n",
        "from qiskit.visualization import plot_histogram\n",
        "import numpy as np\n",
        "import matplotlib.pyplot as plt"
      ],
      "metadata": {
        "id": "BIutlL3ZjdhV"
      },
      "execution_count": null,
      "outputs": []
    },
    {
      "cell_type": "code",
      "source": [
        "# --- Inputs ---\n",
        "q = 0.05      #risk tollerance\n",
        "P = 100       #Penalty weight\n",
        "mu = [0.08745401 , 0.14507143 , 0.12319939 ,0.10986585, 0.06560186, 0.06559945,\n",
        " 0.05580836, 0.13661761, 0.1101115 , 0.12080726]   #profits\n",
        "sigma = [[0.02058449 , 0.96990985 , 0.83244264 , 0.21233911 ,0.18182497 ,0.18340451,\n",
        "            0.30424224, 0.52475643, 0.43194502, 0.29122914],\n",
        " [0.61185289, 0.13949386, 0.29214465, 0.36636184 , 0.45606998, 0.78517596,\n",
        "  0.19967378, 0.51423444, 0.59241457, 0.04645041],\n",
        " [0.60754485, 0.17052412, 0.06505159, 0.94888554, 0.96563203, 0.80839735,\n",
        "  0.30461377, 0.09767211, 0.68423303, 0.44015249],\n",
        " [0.12203823, 0.49517691, 0.03438852, 0.9093204,  0.25877998 ,0.66252228,\n",
        "  0.31171108, 0.52006802, 0.54671028, 0.18485446],\n",
        " [0.96958463, 0.77513282, 0.93949894, 0.89482735, 0.59789998, 0.92187424,\n",
        "  0.0884925,  0.19598286, 0.04522729, 0.32533033],\n",
        " [0.38867729, 0.27134903, 0.82873751, 0.35675333, 0.28093451,0.54269608,\n",
        "  0.14092422, 0.80219698, 0.07455064, 0.98688694],\n",
        " [0.77224477, 0.19871568, 0.00552212, 0.81546143, 0.70685734, 0.72900717,\n",
        "  0.77127035, 0.07404465, 0.35846573 ,0.11586906],\n",
        " [0.86310343, 0.62329813, 0.33089802 ,0.06355835 ,0.31098232, 0.32518332,\n",
        "  0.72960618, 0.63755747, 0.88721274, 0.47221493],\n",
        " [0.11959425 ,0.71324479, 0.76078505, 0.5612772,  0.77096718, 0.4937956,\n",
        "  0.52273283, 0.42754102, 0.02541913, 0.10789143],\n",
        " [0.03142919 ,0.63641041, 0.31435598 ,0.50857069, 0.90756647, 0.24929223,\n",
        "  0.41038292, 0.75555114, 0.22879817, 0.07697991]]    #coorelation matrix\n",
        "k = 3 # Desired number of properties\n",
        "n=len(mu)"
      ],
      "metadata": {
        "id": "lHO-1jqqg2kG"
      },
      "execution_count": null,
      "outputs": []
    },
    {
      "cell_type": "code",
      "source": [
        "The given QUBO is a  derivation of Markowitz Optimization Algorithm the orginal algorithm states min⁡〖q∑_i∑_j〖x_i x_j σ_ij 〗〗- ∑_i▒〖x_i μ_i 〗\n",
        "s.t.∑_i▒x_i =B\n",
        "\n",
        "\tq>0 is the risk appetite of the decision maker. 5% is a reasonable value for this case.\n",
        "\tx_i is the decision variable indicating whether property i is included in the portfolio.\n",
        "\tσ_ij represents the correlation between properties i and j.\n",
        "\tμ_i is the expected return on the property i, i.e., the premium, which we assume to be fixed (and given) in this case.\n",
        "\tB is the budget, i.e., how many properties a decision maker wants in its portfolio. 10% of the possible properties is a reasonable value for this case.\n",
        "#Uses QAOA built in algorithm from qiskit to so;ve the given QUBO"
      ],
      "metadata": {
        "id": "uNPdGo_lfqgO"
      },
      "execution_count": null,
      "outputs": []
    },
    {
      "cell_type": "code",
      "source": [
        "\n",
        "\n",
        "\n",
        "# --- QUBO Encoding ---\n",
        "qp = QuadraticProgram()\n",
        "for i in range(n):\n",
        "    qp.binary_var(name=f'x{i}')\n",
        "\n",
        "# Objective function: combine risk, return, and constraint penalty\n",
        "linear = {}\n",
        "quadratic = {}\n",
        "\n",
        "# Risk-return terms\n",
        "for i in range(n):\n",
        "    linear[f'x{i}'] = q * sigma[i][i] - mu[i] + P * (1 - 2 * k)\n",
        "    for j in range(i + 1, n):\n",
        "        key = (f'x{i}', f'x{j}')\n",
        "        quadratic[key] = q * sigma[i][j] + 2 * P\n",
        "\n",
        "qp.minimize(linear=linear, quadratic=quadratic)\n",
        "\n",
        "# --- Solve using QAOA (Quantum Annealing behavior) ---\n",
        "algorithm_globals.random_seed = 42\n",
        "sampler = AerSampler()\n",
        "qaoa = QAOA(sampler=sampler,optimizer=COBYLA(), reps=1)\n",
        "optimizer = MinimumEigenOptimizer(qaoa)\n",
        "\n",
        "result = optimizer.solve(qp)\n",
        "\n",
        "# --- Show Result ---\n",
        "solution = result.x\n",
        "selected_props = [chr(65 + i) for i in range(n) if solution[i] == 1]\n",
        "\n",
        "print(\"Best selection (quantum):\", solution)\n",
        "print(\"Energy (objective value):\", result.fval)\n",
        "print(\"Selected properties:\", selected_props)\n"
      ],
      "metadata": {
        "colab": {
          "base_uri": "https://localhost:8080/"
        },
        "id": "gDa7tdmJkrdM",
        "outputId": "5ec7e5fe-6a6c-455b-d7d6-d79edc8f26a2"
      },
      "execution_count": null,
      "outputs": [
        {
          "output_type": "stream",
          "name": "stdout",
          "text": [
            "Best selection (quantum): [0. 1. 1. 0. 0. 0. 0. 0. 0. 1.]\n",
            "Energy (objective value): -900.3360644344999\n",
            "Selected properties: ['B', 'C', 'J']\n"
          ]
        }
      ]
    },
    {
      "cell_type": "code",
      "source": [
        "\n",
        "\n",
        "\n",
        "Q = {}\n",
        "for i in range(n):\n",
        "    Q[(i, i)] = q * sigma[i][i] - mu[i] + P * (1 - 2 * k)\n",
        "    for j in range(i + 1, n):\n",
        "        Q[(i, j)] = q * sigma[i][j] + 2 * P\n",
        "\n",
        "# Quantum circuit with custom annealing steps\n",
        "p = 3  # number of layers\n",
        "gamma = 0.8\n",
        "beta = 0.7\n",
        "\n",
        "qc = QuantumCircuit(n, n)\n",
        "\n",
        "# Step 1: Initialize in superposition\n",
        "qc.h(range(n))\n",
        "\n",
        "# Step 2: p-layer QAOA-style evolution\n",
        "for _ in range(p):\n",
        "    # Cost unitary (phase encoding)\n",
        "    for (i, j), qval in Q.items():\n",
        "        if i == j:\n",
        "            qc.rz(2 * gamma * qval, i)\n",
        "        else:\n",
        "            qc.cx(i, j)\n",
        "            qc.rz(2 * gamma * qval, j)\n",
        "            qc.cx(i, j)\n",
        "\n",
        "    # Mixing unitary\n",
        "    for i in range(n):\n",
        "        qc.rx(2 * beta, i)\n",
        "\n",
        "# Step 3: Measurement\n",
        "qc.measure(range(n), range(n))\n",
        "\n",
        "# Simulate\n",
        "# --- Run Simulation ---\n",
        "sim = Aer.get_backend('qasm_simulator')\n",
        "tqc = transpile(qc, sim)\n",
        "result = sim.run(tqc, shots=2048).result()\n",
        "counts = result.get_counts()\n",
        "\n",
        "\n",
        "# Only consider bitstrings with Hamming weight = k\n",
        "filtered_counts = {k: v for k, v in counts.items() if k.count('1') == 3}\n",
        "\n",
        "if filtered_counts:\n",
        "    best = max(filtered_counts, key=filtered_counts.get)\n",
        "    best_selection = [int(b) for b in best]\n",
        "    selected_props = [chr(65 + i) for i in range(n) if best_selection[i] == 1]\n",
        "    print(\"Filtered Best Selection:\", best_selection)\n",
        "    print(\"Selected Properties:\", selected_props)\n",
        "else:\n",
        "    print(\"No valid properties were found.\")\n"
      ],
      "metadata": {
        "colab": {
          "base_uri": "https://localhost:8080/"
        },
        "id": "SzNH1K2XBdbd",
        "outputId": "47f04c18-3457-4161-d14f-299665ec8929"
      },
      "execution_count": null,
      "outputs": [
        {
          "output_type": "stream",
          "name": "stdout",
          "text": [
            "Filtered Best Selection: [1, 0, 0, 0, 0, 0, 0, 0, 1, 1]\n",
            "Selected Properties: ['A', 'I', 'J']\n"
          ]
        }
      ]
    },
    {
      "cell_type": "code",
      "source": [],
      "metadata": {
        "id": "h2CL3ypGjM46"
      },
      "execution_count": null,
      "outputs": []
    },
    {
      "cell_type": "code",
      "source": [
        "\n",
        "\n",
        "# Construct QUBO matrix\n",
        "Q = {}\n",
        "for i in range(n):\n",
        "    Q[(i, i)] = q * sigma[i][i] - mu[i] + P * (1 - 2 * 3)  # Assuming k=3 for now\n",
        "    for j in range(i + 1, n):\n",
        "        Q[(i, j)] = q * sigma[i][j] + 2 * P\n"
      ],
      "metadata": {
        "id": "vuqB4l6gg3ce"
      },
      "execution_count": null,
      "outputs": []
    },
    {
      "cell_type": "code",
      "source": [
        "\n",
        "# Construct the ansatz (PQC)\n",
        "def create_ansatz(n, params):\n",
        "    circuit = QuantumCircuit(n)\n",
        "    for i in range(n):\n",
        "        circuit.ry(params[i], i)  # Single qubit rotation (RY gate)\n",
        "\n",
        "    for i in range(n - 1):\n",
        "        circuit.cz(i, i + 1)  # Entangling gate (CZ gate)\n",
        "\n",
        "    return circuit\n"
      ],
      "metadata": {
        "id": "JxUDG0SKqlbR"
      },
      "execution_count": null,
      "outputs": []
    },
    {
      "cell_type": "code",
      "source": [
        "def estimate_energy(counts, Q):\n",
        "    energy = 0\n",
        "    shots = sum(counts.values())\n",
        "    for bitstring, count in counts.items():\n",
        "        x = [int(bit) for bit in reversed(bitstring)]  # reversed for qiskit order\n",
        "        e = 0\n",
        "        for i in range(len(x)):\n",
        "            e += Q.get((i, i), 0) * x[i]\n",
        "            for j in range(i + 1, len(x)):\n",
        "                e += Q.get((i, j), 0) * x[i] * x[j]\n",
        "        energy += (count / shots) * e\n",
        "    return energy\n"
      ],
      "metadata": {
        "id": "Wv4HMxmBqmZU"
      },
      "execution_count": null,
      "outputs": []
    },
    {
      "cell_type": "code",
      "source": [
        "\n",
        "def optimize_ansatz(n, Q, max_iter=100, lr=0.1):\n",
        "    simulator = Aer.get_backend('qasm_simulator')\n",
        "    params = np.random.uniform(0, 2 * np.pi, n * 2)\n",
        "\n",
        "    def ansatz(params):\n",
        "        qc = QuantumCircuit(n)\n",
        "        for i in range(n):\n",
        "            qc.ry(params[i], i)\n",
        "            qc.rz(params[n + i], i)\n",
        "        qc.measure_all()\n",
        "        return qc\n",
        "\n",
        "    def compute_expectation(params):\n",
        "        qc = ansatz(params)\n",
        "        tqc = transpile(qc, simulator)\n",
        "        result = simulator.run(tqc, shots=1024).result()\n",
        "        counts = result.get_counts()\n",
        "        return estimate_energy(counts, Q)\n",
        "\n",
        "    for _ in range(max_iter):\n",
        "        current_energy = compute_expectation(params)\n",
        "        gradients = np.zeros_like(params)\n",
        "        for i in range(len(params)):\n",
        "            shift = np.zeros_like(params)\n",
        "            shift[i] = np.pi / 2\n",
        "            energy_plus = compute_expectation(params + shift)\n",
        "            energy_minus = compute_expectation(params - shift)\n",
        "            gradients[i] = (energy_plus - energy_minus) / 2\n",
        "        params -= lr * gradients\n",
        "\n",
        "    return counts,params, compute_expectation(params)\n"
      ],
      "metadata": {
        "id": "DALcvsoJqwa_"
      },
      "execution_count": null,
      "outputs": []
    },
    {
      "cell_type": "code",
      "source": [
        "# Run the VQA optimization loop\n",
        "counts,optimal_params, optimal_energy = optimize_ansatz(n, Q)\n",
        "\n",
        "# Print results\n",
        "print(\"Optimal parameters found:\", optimal_params)\n",
        "print(\"Optimal energy:\", optimal_energy)\n",
        " # Find the most frequent result\n",
        "most_likely_bitstring = max(counts, key=counts.get)\n",
        "bits = [int(b) for b in reversed(most_likely_bitstring)]  # reversed for Qiskit order\n",
        "\n",
        "# Decode properties\n",
        "selected_props = [chr(65 + i) for i in range(n) if bits[i] == 1]\n",
        "print(selected_props)"
      ],
      "metadata": {
        "colab": {
          "base_uri": "https://localhost:8080/"
        },
        "id": "1t3Jf5mnqxV7",
        "outputId": "acfb67ba-dd70-40d7-a763-7b55dc82cb5f"
      },
      "execution_count": null,
      "outputs": [
        {
          "output_type": "stream",
          "name": "stdout",
          "text": [
            "Optimal parameters found: [-1.21335154e+02 -1.11241296e+02  2.18068359e+02 -5.84051023e+01\n",
            "  4.33395333e+01  2.54196824e+02  3.75622606e+02  1.72384438e+02\n",
            " -3.53039421e+02  1.59137617e+02  9.67191714e+00  2.58194615e+01\n",
            "  4.31500394e+00 -2.43987245e-02 -1.16918549e+01  1.08634088e+01\n",
            " -5.44871027e+00 -1.18005132e+01  3.05501073e+01  1.42740317e+01]\n",
            "Optimal energy: 218.21747369206182\n",
            "['A', 'B', 'C', 'D', 'E', 'F', 'H', 'I', 'J']\n"
          ]
        }
      ]
    }
  ]
}