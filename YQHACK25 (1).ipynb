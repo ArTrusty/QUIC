{
  "nbformat": 4,
  "nbformat_minor": 0,
  "metadata": {
    "colab": {
      "provenance": [],
      "toc_visible": true
    },
    "kernelspec": {
      "name": "python3",
      "display_name": "Python 3"
    },
    "language_info": {
      "name": "python"
    }
  },
  "cells": [
    {
      "cell_type": "code",
      "execution_count": 36,
      "metadata": {
        "colab": {
          "base_uri": "https://localhost:8080/"
        },
        "id": "CwUWGmYIfnew",
        "outputId": "44dd7b73-b6a0-45d0-bc62-0df78c0ea2ef"
      },
      "outputs": [
        {
          "output_type": "stream",
          "name": "stdout",
          "text": [
            "Requirement already satisfied: qiskit==1.1.2 in /usr/local/lib/python3.11/dist-packages (1.1.2)\n",
            "Requirement already satisfied: qiskit-optimization in /usr/local/lib/python3.11/dist-packages (0.6.1)\n",
            "Requirement already satisfied: qiskit_aer in /usr/local/lib/python3.11/dist-packages (0.17.0)\n",
            "Requirement already satisfied: qiskit_utils in /usr/local/lib/python3.11/dist-packages (1.2.1)\n",
            "Requirement already satisfied: rustworkx>=0.14.0 in /usr/local/lib/python3.11/dist-packages (from qiskit==1.1.2) (0.16.0)\n",
            "Requirement already satisfied: numpy<3,>=1.17 in /usr/local/lib/python3.11/dist-packages (from qiskit==1.1.2) (2.0.2)\n",
            "Requirement already satisfied: scipy>=1.5 in /usr/local/lib/python3.11/dist-packages (from qiskit==1.1.2) (1.14.1)\n",
            "Requirement already satisfied: sympy>=1.3 in /usr/local/lib/python3.11/dist-packages (from qiskit==1.1.2) (1.13.1)\n",
            "Requirement already satisfied: dill>=0.3 in /usr/local/lib/python3.11/dist-packages (from qiskit==1.1.2) (0.3.9)\n",
            "Requirement already satisfied: python-dateutil>=2.8.0 in /usr/local/lib/python3.11/dist-packages (from qiskit==1.1.2) (2.8.2)\n",
            "Requirement already satisfied: stevedore>=3.0.0 in /usr/local/lib/python3.11/dist-packages (from qiskit==1.1.2) (5.4.1)\n",
            "Requirement already satisfied: typing-extensions in /usr/local/lib/python3.11/dist-packages (from qiskit==1.1.2) (4.13.1)\n",
            "Requirement already satisfied: symengine>=0.11 in /usr/local/lib/python3.11/dist-packages (from qiskit==1.1.2) (0.14.0)\n",
            "Requirement already satisfied: qiskit-algorithms>=0.2.0 in /usr/local/lib/python3.11/dist-packages (from qiskit-optimization) (0.3.1)\n",
            "Requirement already satisfied: docplex!=2.24.231,>=2.21.207 in /usr/local/lib/python3.11/dist-packages (from qiskit-optimization) (2.29.241)\n",
            "Requirement already satisfied: setuptools>=40.1.0 in /usr/local/lib/python3.11/dist-packages (from qiskit-optimization) (75.2.0)\n",
            "Requirement already satisfied: networkx>=2.6.3 in /usr/local/lib/python3.11/dist-packages (from qiskit-optimization) (3.4.2)\n",
            "Requirement already satisfied: psutil>=5 in /usr/local/lib/python3.11/dist-packages (from qiskit_aer) (5.9.5)\n",
            "Requirement already satisfied: six in /usr/local/lib/python3.11/dist-packages (from docplex!=2.24.231,>=2.21.207->qiskit-optimization) (1.17.0)\n",
            "Requirement already satisfied: pbr>=2.0.0 in /usr/local/lib/python3.11/dist-packages (from stevedore>=3.0.0->qiskit==1.1.2) (6.1.1)\n",
            "Requirement already satisfied: mpmath<1.4,>=1.1.0 in /usr/local/lib/python3.11/dist-packages (from sympy>=1.3->qiskit==1.1.2) (1.3.0)\n"
          ]
        }
      ],
      "source": [
        "pip install qiskit==1.1.2 qiskit-optimization qiskit_aer qiskit_utils\n"
      ]
    },
    {
      "cell_type": "code",
      "source": [
        "pip install qiskit_algorithms"
      ],
      "metadata": {
        "colab": {
          "base_uri": "https://localhost:8080/"
        },
        "id": "1aPE6hnMjYTI",
        "outputId": "8e0c0c9f-f5a5-4cd7-a668-b5bb2415a7d5"
      },
      "execution_count": 37,
      "outputs": [
        {
          "output_type": "stream",
          "name": "stdout",
          "text": [
            "Requirement already satisfied: qiskit_algorithms in /usr/local/lib/python3.11/dist-packages (0.3.1)\n",
            "Requirement already satisfied: qiskit>=0.44 in /usr/local/lib/python3.11/dist-packages (from qiskit_algorithms) (1.1.2)\n",
            "Requirement already satisfied: scipy>=1.4 in /usr/local/lib/python3.11/dist-packages (from qiskit_algorithms) (1.14.1)\n",
            "Requirement already satisfied: numpy>=1.17 in /usr/local/lib/python3.11/dist-packages (from qiskit_algorithms) (2.0.2)\n",
            "Requirement already satisfied: rustworkx>=0.14.0 in /usr/local/lib/python3.11/dist-packages (from qiskit>=0.44->qiskit_algorithms) (0.16.0)\n",
            "Requirement already satisfied: sympy>=1.3 in /usr/local/lib/python3.11/dist-packages (from qiskit>=0.44->qiskit_algorithms) (1.13.1)\n",
            "Requirement already satisfied: dill>=0.3 in /usr/local/lib/python3.11/dist-packages (from qiskit>=0.44->qiskit_algorithms) (0.3.9)\n",
            "Requirement already satisfied: python-dateutil>=2.8.0 in /usr/local/lib/python3.11/dist-packages (from qiskit>=0.44->qiskit_algorithms) (2.8.2)\n",
            "Requirement already satisfied: stevedore>=3.0.0 in /usr/local/lib/python3.11/dist-packages (from qiskit>=0.44->qiskit_algorithms) (5.4.1)\n",
            "Requirement already satisfied: typing-extensions in /usr/local/lib/python3.11/dist-packages (from qiskit>=0.44->qiskit_algorithms) (4.13.1)\n",
            "Requirement already satisfied: symengine>=0.11 in /usr/local/lib/python3.11/dist-packages (from qiskit>=0.44->qiskit_algorithms) (0.14.0)\n",
            "Requirement already satisfied: six>=1.5 in /usr/local/lib/python3.11/dist-packages (from python-dateutil>=2.8.0->qiskit>=0.44->qiskit_algorithms) (1.17.0)\n",
            "Requirement already satisfied: pbr>=2.0.0 in /usr/local/lib/python3.11/dist-packages (from stevedore>=3.0.0->qiskit>=0.44->qiskit_algorithms) (6.1.1)\n",
            "Requirement already satisfied: mpmath<1.4,>=1.1.0 in /usr/local/lib/python3.11/dist-packages (from sympy>=1.3->qiskit>=0.44->qiskit_algorithms) (1.3.0)\n",
            "Requirement already satisfied: setuptools in /usr/local/lib/python3.11/dist-packages (from pbr>=2.0.0->stevedore>=3.0.0->qiskit>=0.44->qiskit_algorithms) (75.2.0)\n"
          ]
        }
      ]
    },
    {
      "cell_type": "code",
      "source": [
        "from qiskit_optimization import QuadraticProgram\n",
        "from qiskit_optimization.algorithms import MinimumEigenOptimizer\n",
        "from qiskit_algorithms import QAOA\n",
        "from qiskit_aer.primitives import Sampler as AerSampler\n",
        "from qiskit_algorithms.utils import algorithm_globals\n",
        "from qiskit_algorithms.optimizers import COBYLA\n",
        "from qiskit.compiler import transpile, assemble\n",
        "from qiskit import QuantumCircuit\n",
        "from qiskit_aer import Aer\n",
        "from qiskit.visualization import plot_histogram\n",
        "import numpy as np\n",
        "import matplotlib.pyplot as plt\n",
        "import random\n",
        "import math"
      ],
      "metadata": {
        "id": "BIutlL3ZjdhV"
      },
      "execution_count": 38,
      "outputs": []
    },
    {
      "cell_type": "code",
      "source": [
        "# --- Inputs ---\n",
        "q = 0.05      #risk tollerance\n",
        "P = 100       #Penalty weight\n",
        "mu = [0.08745401 , 0.14507143 , 0.12319939 ,0.10986585, 0.06560186, 0.06559945,\n",
        " 0.05580836, 0.13661761, 0.1101115 , 0.12080726]   #profits from each properties\n",
        "sigma = [[0.02058449 , 0.96990985 , 0.83244264 , 0.21233911 ,0.18182497 ,0.18340451,\n",
        "            0.30424224, 0.52475643, 0.43194502, 0.29122914],\n",
        "        [0.61185289, 0.13949386, 0.29214465, 0.36636184 , 0.45606998, 0.78517596,\n",
        "            0.19967378, 0.51423444, 0.59241457, 0.04645041],\n",
        "        [0.60754485, 0.17052412, 0.06505159, 0.94888554, 0.96563203, 0.80839735,\n",
        "            0.30461377, 0.09767211, 0.68423303, 0.44015249],\n",
        "        [0.12203823, 0.49517691, 0.03438852, 0.9093204,  0.25877998 ,0.66252228,\n",
        "            0.31171108, 0.52006802, 0.54671028, 0.18485446],\n",
        "        [0.96958463, 0.77513282, 0.93949894, 0.89482735, 0.59789998, 0.92187424,\n",
        "            0.0884925,  0.19598286, 0.04522729, 0.32533033],\n",
        "        [0.38867729, 0.27134903, 0.82873751, 0.35675333, 0.28093451,0.54269608,\n",
        "            0.14092422, 0.80219698, 0.07455064, 0.98688694],\n",
        "        [0.77224477, 0.19871568, 0.00552212, 0.81546143, 0.70685734, 0.72900717,\n",
        "            0.77127035, 0.07404465, 0.35846573 ,0.11586906],\n",
        "        [0.86310343, 0.62329813, 0.33089802 ,0.06355835 ,0.31098232, 0.32518332,\n",
        "            0.72960618, 0.63755747, 0.88721274, 0.47221493],\n",
        "        [0.11959425 ,0.71324479, 0.76078505, 0.5612772,  0.77096718, 0.4937956,\n",
        "            0.52273283, 0.42754102, 0.02541913, 0.10789143],\n",
        "        [0.03142919 ,0.63641041, 0.31435598 ,0.50857069, 0.90756647, 0.24929223,\n",
        "            0.41038292, 0.75555114, 0.22879817, 0.07697991]]    #coorelation matrix\n",
        "\n",
        "k = 3 # Desired number of properties\n",
        "n=len(mu)  #Number of available properties"
      ],
      "metadata": {
        "id": "lHO-1jqqg2kG"
      },
      "execution_count": 39,
      "outputs": []
    },
    {
      "cell_type": "markdown",
      "source": [
        "The given QUBO is a  derivation of Markowitz Optimization Algorithm the orginal algorithm aims to minimize the cost involved in insuring a property. Which is obtained by subtracting the resturen from a property subtracted from the risk associated with them. Note we do have a budject constraint where a company can insure only certain number of properties. We form a QUBO exquation by introducting the penalty term into the orginal exuation. min⁡〖q∑_i▒∑_j▒〖x_i x_j σ_ij 〗〗- ∑_i▒〖x_i μ_i 〗\n",
        "s.t.∑_i▒x_i =B\n",
        "\n",
        "\tq>0 is the risk appetite of the decision maker. 5% is a reasonable value for this case.\n",
        "\tx_i is the decision variable indicating whether property i is included in the portfolio.\n",
        "\tσ_ij represents the correlation between properties i and j.\n",
        "\tμ_i is the expected return on the property i, i.e., the premium, which we assume to be fixed (and given) in this case.\n",
        "\tB is the budget, i.e., how many properties a decision maker wants in its portfolio. 10% of the possible properties is a reasonable value for this case.\n",
        "min⁡〖q∑_i▒∑_j▒〖x_i x_j σ_ij 〗〗- ∑_i▒〖x_i μ_i 〗+ k(∑_i▒x_i -B)^2.with K being the whole number (bigger as possible). After expanding the Penalty term the equation for pernalty becomes kx^2 + 2xixjK + K^2. We can eliminate the cooficient term as it does not affect the QUBO diagonal. The kx^2 term affects the diagonal terms(where i==j) since there is no connection. the k(1 - 2*xi*xj) will be affecting the non-diagonal terms."
      ],
      "metadata": {
        "id": "AhVKGuMmmF5K"
      }
    },
    {
      "cell_type": "code",
      "source": [
        "#Uses simulated anneling which as a quantum inspired classical algorithm\n",
        "\n",
        "# Step 1: Build QUBO matrix Q\n",
        "Q = {}\n",
        "for i in range(n):\n",
        "    Q[(i, i)] = q * sigma[i][i] - mu[i] + P * (1 - 2 * k)  #set up the diagonal cost (include penalty)\n",
        "    for j in range(i + 1, n):\n",
        "        Q[(i, j)] = q * sigma[i][j] + 2 * P     #set up the diagonal cost (include penalty)\n",
        "\n",
        "# Step 2: Energy calculation\n",
        "def energy(x, Q):\n",
        "    e = 0\n",
        "    for i in range(n):\n",
        "        e += Q.get((i, i), 0) * x[i]\n",
        "        for j in range(i + 1, n):\n",
        "            e += Q.get((i, j), 0) * x[i] * x[j]\n",
        "    return e\n",
        "\n",
        "# Step 3: Simulated Annealing\n",
        "#Do repeat the anneleing proccess until the specifed steps are untild the system reacheds its colleset point\n",
        "#temp_start-> the starting temperature of the system end->lowest temperate a system can reach alpha->the rate at which the system looses its temp.\n",
        "def simulated_annealing(Q, n, steps=1000, temp_start=100.0, temp_end=1e-2, alpha=0.98):\n",
        "\n",
        "    # Initial solution\n",
        "    current = [random.randint(0, 1) for _ in range(n)]\n",
        "    current_energy = energy(current, Q)\n",
        "    best = list(current)\n",
        "    best_energy = current_energy\n",
        "    temp = temp_start\n",
        "\n",
        "    for step in range(steps):\n",
        "        # Flip one bit\n",
        "        i = random.randint(0, n-1)\n",
        "        neighbor = list(current)\n",
        "        neighbor[i] = 1 - neighbor[i]\n",
        "        neighbor_energy = energy(neighbor, Q)\n",
        "\n",
        "        delta = neighbor_energy - current_energy\n",
        "        if delta < 0 or random.random() < math.exp(-delta / temp):\n",
        "            current = neighbor\n",
        "            current_energy = neighbor_energy\n",
        "            if current_energy < best_energy:\n",
        "                best = current\n",
        "                best_energy = current_energy\n",
        "\n",
        "        temp *= alpha\n",
        "        if temp < temp_end:\n",
        "            break\n",
        "\n",
        "    return best, best_energy\n",
        "\n",
        "# Run the solver\n",
        "best_solution, best_energy = simulated_annealing(Q, n)\n",
        "\n",
        "# Show result\n",
        "selected_props = [chr(65 + i) for i in range(n) if best_solution[i] == 1]\n",
        "print(\"Best selection:\", best_solution)\n",
        "print(\"Energy (objective value):\", best_energy)\n",
        "print(\"Selected properties:\", selected_props)\n"
      ],
      "metadata": {
        "colab": {
          "base_uri": "https://localhost:8080/"
        },
        "id": "YG7XIKhemhfM",
        "outputId": "89e6d4db-23b1-4318-b731-e725cc899e0f"
      },
      "execution_count": 40,
      "outputs": [
        {
          "output_type": "stream",
          "name": "stdout",
          "text": [
            "Best selection: [1, 0, 0, 0, 0, 0, 0, 1, 1, 0]\n",
            "Energy (objective value): -900.207809356\n",
            "Selected properties: ['A', 'H', 'I']\n"
          ]
        }
      ]
    },
    {
      "cell_type": "code",
      "source": [
        "\n",
        "#Uses QAOA built in algorithm from qiskit to so;ve the given QUBO\n",
        "\n",
        "# Step 1:QUBO Encoding\n",
        "qp = QuadraticProgram()\n",
        "for i in range(n):\n",
        "    qp.binary_var(name=f'x{i}')\n",
        "\n",
        "# Objective function: combine risk, return, and constraint penalty\n",
        "linear = {}\n",
        "quadratic = {}\n",
        "\n",
        "# Setp 2:Risk-return terms\n",
        "for i in range(n):\n",
        "    linear[f'x{i}'] = q * sigma[i][i] - mu[i] + P * (1 - 2 * k)\n",
        "    for j in range(i + 1, n):\n",
        "        key = (f'x{i}', f'x{j}')\n",
        "        quadratic[key] = q * sigma[i][j] + 2 * P\n",
        "\n",
        "qp.minimize(linear=linear, quadratic=quadratic)\n",
        "\n",
        "# Step 3: Solve using QAOA (Quantum Annealing behavior)\n",
        "algorithm_globals.random_seed = 42\n",
        "sampler = AerSampler()\n",
        "qaoa = QAOA(sampler=sampler,optimizer=COBYLA(), reps=1) # Increase the number of reps to 100\n",
        "optimizer = MinimumEigenOptimizer(qaoa)\n",
        "\n",
        "result = optimizer.solve(qp)\n",
        "\n",
        "# Step 4: Show Result\n",
        "solution = result.x\n",
        "selected_props = [chr(65 + i) for i in range(n) if solution[i] == 1]\n",
        "\n",
        "print(\"Best selection (quantum):\", solution)\n",
        "print(\"Energy (objective value):\", result.fval)\n",
        "print(\"Selected properties:\", selected_props)\n"
      ],
      "metadata": {
        "colab": {
          "base_uri": "https://localhost:8080/"
        },
        "id": "gDa7tdmJkrdM",
        "outputId": "9299b4e1-88a0-4a80-fb65-dec077c39c15"
      },
      "execution_count": 41,
      "outputs": [
        {
          "output_type": "stream",
          "name": "stdout",
          "text": [
            "Best selection (quantum): [0. 1. 1. 0. 0. 0. 0. 0. 0. 1.]\n",
            "Energy (objective value): -900.3360644344999\n",
            "Selected properties: ['B', 'C', 'J']\n"
          ]
        }
      ]
    },
    {
      "cell_type": "code",
      "source": [
        "#Solve the QUBO using quantum circuit and gates\n",
        "#Implementation of QAOA algorithm with n qbit system\n",
        "\n",
        "Q = {}\n",
        "for i in range(n):\n",
        "    Q[(i, i)] = q * sigma[i][i] - mu[i] + P * (1 - 2 * k)\n",
        "    for j in range(i + 1, n):\n",
        "        Q[(i, j)] = q * sigma[i][j] + 2 * P\n",
        "\n",
        "# Quantum circuit with custom annealing steps\n",
        "p = 3  # number of layers more layers more precise output but more complex\n",
        "gamma = 0.8\n",
        "beta = 0.7\n",
        "\n",
        "qc = QuantumCircuit(n, n)\n",
        "\n",
        "# Step 1: Initialize in superposition\n",
        "qc.h(range(n)) # Hadamard Gate\n",
        "\n",
        "# Step 2: p-layer QAOA-style evolution\n",
        "for _ in range(p):\n",
        "    # Cost unitary (phase encoding)\n",
        "    for (i, j), qval in Q.items():\n",
        "        if i == j:    #diagonal element z-phase rotation, peeks the how costly it may get to select this bit (dont select them)\n",
        "            qc.rz(2 * gamma * qval, i)\n",
        "        else:   #Non-diagonal, controlled phase rotation to say about the penalty or rewards associated with a bit\n",
        "            qc.cx(i, j)\n",
        "            qc.rz(2 * gamma * qval, j)\n",
        "            qc.cx(i, j)\n",
        "\n",
        "    # Mixing unitary  flips the table to escape local minima and allow exploring further\n",
        "    for i in range(n):\n",
        "        qc.rx(2 * beta, i)\n",
        "\n",
        "# Step 3: Measurement\n",
        "qc.measure(range(n), range(n))\n",
        "\n",
        "# Simulate\n",
        "# --- Run Simulation ---\n",
        "sim = Aer.get_backend('qasm_simulator')\n",
        "tqc = transpile(qc, sim)\n",
        "result = sim.run(tqc, shots=2048).result()\n",
        "counts = result.get_counts()\n",
        "\n",
        "#Gate based Quantum circuits are prone to errors/noises which might not talk the penalty take into account and selects the leaset energy(greedy approch)\n",
        "#We need to explicity tell the circut to pick the least energy that obeys our penalty term.\n",
        "# Only consider bitstrings with Hamming weight = k\n",
        "filtered_counts = {k: v for k, v in counts.items() if k.count('1') == 3}\n",
        "\n",
        "if filtered_counts:\n",
        "    best = max(filtered_counts, key=filtered_counts.get)\n",
        "    best_selection = [int(b) for b in best]\n",
        "    selected_props = [chr(65 + i) for i in range(n) if best_selection[i] == 1]\n",
        "    print(\"Filtered Best Selection:\", best_selection)\n",
        "    print(\"Selected Properties:\", selected_props)\n",
        "else:\n",
        "    print(\"No valid properties were found.\")\n"
      ],
      "metadata": {
        "colab": {
          "base_uri": "https://localhost:8080/"
        },
        "id": "SzNH1K2XBdbd",
        "outputId": "6005761d-01a8-4a33-f398-2834677af51c"
      },
      "execution_count": 42,
      "outputs": [
        {
          "output_type": "stream",
          "name": "stdout",
          "text": [
            "Filtered Best Selection: [0, 0, 1, 1, 0, 0, 0, 1, 0, 0]\n",
            "Selected Properties: ['C', 'D', 'H']\n"
          ]
        }
      ]
    },
    {
      "cell_type": "code",
      "source": [],
      "metadata": {
        "id": "h2CL3ypGjM46"
      },
      "execution_count": 42,
      "outputs": []
    },
    {
      "cell_type": "code",
      "source": [
        "#Implementationof VQA algorithm using quantum circits and gates\n",
        "\n",
        "# Construct QUBO matrix\n",
        "Q = {}\n",
        "for i in range(n):\n",
        "    Q[(i, i)] = q * sigma[i][i] - mu[i] + P * (1 - 2 * k)\n",
        "    for j in range(i + 1, n):\n",
        "        Q[(i, j)] = q * sigma[i][j] + 2 * P\n"
      ],
      "metadata": {
        "id": "vuqB4l6gg3ce"
      },
      "execution_count": 43,
      "outputs": []
    },
    {
      "cell_type": "code",
      "source": [
        "\n",
        "# Construct the ansatz\n",
        "# A quantum Circit that get phase shifted around y\n",
        "def create_ansatz(n, params):\n",
        "    circuit = QuantumCircuit(n)\n",
        "    for i in range(n):\n",
        "        circuit.ry(params[i], i)  # Single qubit rotation (RY gate)\n",
        "\n",
        "    for i in range(n - 1):\n",
        "        circuit.cz(i, i + 1)  # Entangling gate (ControlledZ gate)\n",
        "\n",
        "    return circuit\n"
      ],
      "metadata": {
        "id": "JxUDG0SKqlbR"
      },
      "execution_count": 44,
      "outputs": []
    },
    {
      "cell_type": "code",
      "source": [
        "#Calculate the energy of each bitstring('101') coming out of the QS,\n",
        "#This steps kind of evaluates the penalty and rewards associated with the element and returns the average energy\n",
        "def estimate_energy(counts, Q):\n",
        "    energy = 0\n",
        "    shots = sum(counts.values())\n",
        "    for bitstring, count in counts.items():\n",
        "        x = [int(bit) for bit in reversed(bitstring)]  # reversed for qiskit order\n",
        "        e = 0\n",
        "        for i in range(len(x)):\n",
        "            e += Q.get((i, i), 0) * x[i]\n",
        "            for j in range(i + 1, len(x)):\n",
        "                e += Q.get((i, j), 0) * x[i] * x[j]\n",
        "        energy += (count / shots) * e\n",
        "    return energy\n"
      ],
      "metadata": {
        "id": "Wv4HMxmBqmZU"
      },
      "execution_count": 45,
      "outputs": []
    },
    {
      "cell_type": "code",
      "source": [
        "#Train the QS to solve the QUBO, we use gradient decient to do this.\n",
        "def optimize_ansatz(n, Q, max_iter=100, lr=0.1):\n",
        "    simulator = Aer.get_backend('qasm_simulator')\n",
        "    params = np.random.uniform(0, 2 * np.pi, n * 2)\n",
        "\n",
        "    def ansatz(params):\n",
        "        qc = QuantumCircuit(n)\n",
        "        for i in range(n):  #phase rotations in y and z\n",
        "            qc.ry(params[i], i)\n",
        "            qc.rz(params[n + i], i)\n",
        "        qc.measure_all()\n",
        "        return qc\n",
        "\n",
        "    #Gets the enery involved\n",
        "    def compute_expectation(params):\n",
        "        qc = ansatz(params)\n",
        "        tqc = transpile(qc, simulator)\n",
        "        result = simulator.run(tqc, shots=1024).result()\n",
        "        counts = result.get_counts()\n",
        "        return estimate_energy(counts, Q)\n",
        "    #Determine which side to move using the energy difference,\n",
        "    for _ in range(max_iter):\n",
        "        current_energy = compute_expectation(params)\n",
        "        gradients = np.zeros_like(params)\n",
        "        for i in range(len(params)):\n",
        "            shift = np.zeros_like(params)\n",
        "            shift[i] = np.pi / 2\n",
        "            energy_plus = compute_expectation(params + shift)\n",
        "            energy_minus = compute_expectation(params - shift)\n",
        "            gradients[i] = (energy_plus - energy_minus) / 2\n",
        "        params -= lr * gradients\n",
        "\n",
        "    return counts,params, compute_expectation(params)\n"
      ],
      "metadata": {
        "id": "DALcvsoJqwa_"
      },
      "execution_count": 46,
      "outputs": []
    },
    {
      "cell_type": "code",
      "source": [
        "# Run the VQA optimization loop\n",
        "counts,optimal_params, optimal_energy = optimize_ansatz(n, Q)\n",
        "\n",
        "# Print results\n",
        "print(\"Optimal parameters found:\", optimal_params)\n",
        "print(\"Optimal energy:\", optimal_energy)\n",
        "\n",
        "#Gate based Quantum circuits are prone to errors/noises which might not talk the penalty take into account and selects the leaset energy(greedy approch)\n",
        "#We need to explicity tell the circut to pick the least energy that obeys our penalty term.\n",
        "# Only consider bitstrings with Hamming weight = k\n",
        "filtered_counts = {k: v for k, v in counts.items() if k.count('1') == 3}\n",
        "\n",
        "\n",
        "if filtered_counts:\n",
        "    best = max(filtered_counts, key=filtered_counts.get)\n",
        "    best_selection = [int(b) for b in best]\n",
        "    selected_props = [chr(65 + i) for i in range(n) if best_selection[i] == 1]\n",
        "    print(\"Filtered Best Selection:\", best_selection)\n",
        "    print(\"Selected Properties:\", selected_props)\n",
        "else:\n",
        "    print(\"No valid properties were found.\")"
      ],
      "metadata": {
        "colab": {
          "base_uri": "https://localhost:8080/"
        },
        "id": "1t3Jf5mnqxV7",
        "outputId": "c126d703-b7f9-43bb-c693-a7877fccd321"
      },
      "execution_count": 48,
      "outputs": [
        {
          "output_type": "stream",
          "name": "stdout",
          "text": [
            "Optimal parameters found: [-168.55332722  151.20639215 -131.11372016  -34.23998232  110.4557394\n",
            "    7.59244078 -136.928914    -75.33273915  -30.42038931   88.04664778\n",
            "    2.92229037   -7.1257881    -5.12856632    1.53527038   -3.39974579\n",
            "   -8.4602286    -5.32779347  -16.23735896    4.69003358   19.82744182]\n",
            "Optimal energy: -775.195928004487\n",
            "Filtered Best Selection: [0, 0, 1, 1, 0, 0, 0, 1, 0, 0]\n",
            "Selected Properties: ['C', 'D', 'H']\n"
          ]
        }
      ]
    }
  ]
}